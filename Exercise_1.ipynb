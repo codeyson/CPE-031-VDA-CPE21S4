{
  "nbformat": 4,
  "nbformat_minor": 0,
  "metadata": {
    "colab": {
      "provenance": [],
      "authorship_tag": "ABX9TyNziOy5bcUTKzwcJmK1sD5O",
      "include_colab_link": true
    },
    "kernelspec": {
      "name": "python3",
      "display_name": "Python 3"
    },
    "language_info": {
      "name": "python"
    }
  },
  "cells": [
    {
      "cell_type": "markdown",
      "metadata": {
        "id": "view-in-github",
        "colab_type": "text"
      },
      "source": [
        "<a href=\"https://colab.research.google.com/github/codeyson/CPE-031-VDA-CPE21S4/blob/main/Exercise_1.ipynb\" target=\"_parent\"><img src=\"https://colab.research.google.com/assets/colab-badge.svg\" alt=\"Open In Colab\"/></a>"
      ]
    },
    {
      "cell_type": "markdown",
      "source": [
        "# Exercise 1\n",
        "\n"
      ],
      "metadata": {
        "id": "jGesTMS62bXd"
      }
    },
    {
      "cell_type": "markdown",
      "source": [
        "## 1. Variables and Data Types\n",
        "\n",
        "  Python uses five standard data types:"
      ],
      "metadata": {
        "id": "jdKRJgRJ80O5"
      }
    },
    {
      "cell_type": "markdown",
      "source": [
        "\n",
        "#### Numbers\n",
        ""
      ],
      "metadata": {
        "id": "i3yuAZaP-KYB"
      }
    },
    {
      "cell_type": "code",
      "source": [
        "varNum = 123\n",
        "pi = 3.14159"
      ],
      "metadata": {
        "id": "zDb5Hx7r-L-x"
      },
      "execution_count": 68,
      "outputs": []
    },
    {
      "cell_type": "markdown",
      "source": [
        "\n",
        "#### Strings\n",
        ""
      ],
      "metadata": {
        "id": "IoHp-WIv-QyZ"
      }
    },
    {
      "cell_type": "code",
      "source": [
        "varString = \"Hello World!\"\n",
        "varText = 'This is a String'"
      ],
      "metadata": {
        "id": "QD-2nf1h-SZI"
      },
      "execution_count": 67,
      "outputs": []
    },
    {
      "cell_type": "markdown",
      "source": [
        "\n",
        "\n",
        " #### Lists\n",
        "  "
      ],
      "metadata": {
        "id": "71ekrrCi-bPA"
      }
    },
    {
      "cell_type": "code",
      "source": [
        "varList = [\"abc\", 123]"
      ],
      "metadata": {
        "id": "g9skGr_C-cwZ"
      },
      "execution_count": null,
      "outputs": []
    },
    {
      "cell_type": "markdown",
      "source": [
        "#### Tuples\n",
        "  \n"
      ],
      "metadata": {
        "id": "VYASYr0m-f3x"
      }
    },
    {
      "cell_type": "code",
      "source": [
        "varTuple = ('abc', 123, \"HELLO\")"
      ],
      "metadata": {
        "id": "hrJxDmzI-hHA"
      },
      "execution_count": null,
      "outputs": []
    },
    {
      "cell_type": "markdown",
      "source": [
        "\n",
        " #### Dictionaries\n",
        ""
      ],
      "metadata": {
        "id": "HGDHy2UJ-j55"
      }
    },
    {
      "cell_type": "code",
      "source": [
        "var = 3\n",
        "varDict = {'first':1, '2': '2nd', 3:var}"
      ],
      "metadata": {
        "id": "5zm-pLUz-lbZ"
      },
      "execution_count": null,
      "outputs": []
    },
    {
      "cell_type": "code",
      "source": [
        "varDict = {}\n",
        "varDict['first'] = 1\n",
        "varDict['2'] = '2nd'\n",
        "varDict[3] = var"
      ],
      "metadata": {
        "id": "efVSTu5R-s9R"
      },
      "execution_count": null,
      "outputs": []
    },
    {
      "cell_type": "markdown",
      "source": [
        "## 2. Arithmetic\n",
        "\n"
      ],
      "metadata": {
        "id": "WRYmcDTh5L1Y"
      }
    },
    {
      "cell_type": "markdown",
      "source": [
        "#### Addition"
      ],
      "metadata": {
        "id": "GiyKGWhz8lXR"
      }
    },
    {
      "cell_type": "code",
      "source": [
        "a = 5 + 3\n",
        "print (a)"
      ],
      "metadata": {
        "colab": {
          "base_uri": "https://localhost:8080/"
        },
        "id": "Oj4O7h8x5P-0",
        "outputId": "b73c9cd3-5273-497d-871d-416ea39d3abe"
      },
      "execution_count": 7,
      "outputs": [
        {
          "output_type": "stream",
          "name": "stdout",
          "text": [
            "8\n"
          ]
        }
      ]
    },
    {
      "cell_type": "markdown",
      "source": [
        "#### Subtraction\n",
        "\n"
      ],
      "metadata": {
        "id": "sy8yh7jn5Ubb"
      }
    },
    {
      "cell_type": "code",
      "source": [
        "a = 5 - 3\n",
        "print (a)"
      ],
      "metadata": {
        "id": "n1mN-2Fi5d8j"
      },
      "execution_count": null,
      "outputs": []
    },
    {
      "cell_type": "markdown",
      "source": [
        "#### Multiplication"
      ],
      "metadata": {
        "id": "rS_Rie-m5gIb"
      }
    },
    {
      "cell_type": "code",
      "source": [
        "a = 5 * 3\n",
        "print (a)"
      ],
      "metadata": {
        "id": "hAP7AV6P5h77"
      },
      "execution_count": null,
      "outputs": []
    },
    {
      "cell_type": "markdown",
      "source": [
        "#### Exponent"
      ],
      "metadata": {
        "id": "tu-q152D5lBT"
      }
    },
    {
      "cell_type": "code",
      "source": [
        "a = 5 ** 3\n",
        "print (a)"
      ],
      "metadata": {
        "id": "LrQnzXHL5m3q"
      },
      "execution_count": null,
      "outputs": []
    },
    {
      "cell_type": "markdown",
      "source": [
        "#### Division"
      ],
      "metadata": {
        "id": "LeLO_As_5pja"
      }
    },
    {
      "cell_type": "code",
      "source": [
        "a = 5 / 3\n",
        "print (a)\n"
      ],
      "metadata": {
        "id": "ULy-BJXY5rFy"
      },
      "execution_count": null,
      "outputs": []
    },
    {
      "cell_type": "code",
      "source": [
        "a = 5 % 3\n",
        "print (a)\n",
        "\n"
      ],
      "metadata": {
        "id": "Z8o14fHx55Uq"
      },
      "execution_count": null,
      "outputs": []
    },
    {
      "cell_type": "code",
      "source": [
        "a = 5 // 3\n",
        "print (a)"
      ],
      "metadata": {
        "id": "ZTZrLTw756Ok"
      },
      "execution_count": null,
      "outputs": []
    },
    {
      "cell_type": "markdown",
      "source": [
        "#### Increment/Decrement"
      ],
      "metadata": {
        "id": "T0TJ95s46N__"
      }
    },
    {
      "cell_type": "code",
      "source": [
        "a = 5\n",
        "a += 1\n",
        "\n",
        "print (a)"
      ],
      "metadata": {
        "colab": {
          "base_uri": "https://localhost:8080/"
        },
        "id": "FUb8SOUy6SC4",
        "outputId": "08bb14fb-131c-4a90-eca3-ec40607d3334"
      },
      "execution_count": 12,
      "outputs": [
        {
          "output_type": "stream",
          "name": "stdout",
          "text": [
            "6\n"
          ]
        }
      ]
    },
    {
      "cell_type": "markdown",
      "source": [
        "#### Decrement\n"
      ],
      "metadata": {
        "id": "DeKvM_M_6XlC"
      }
    },
    {
      "cell_type": "code",
      "source": [
        "a = 5\n",
        "a -= 1\n",
        "\n",
        "print (a)"
      ],
      "metadata": {
        "colab": {
          "base_uri": "https://localhost:8080/"
        },
        "id": "igPTdXjw6ZGL",
        "outputId": "c81bc64c-0ecf-45d7-c54e-160f54838ef4"
      },
      "execution_count": 11,
      "outputs": [
        {
          "output_type": "stream",
          "name": "stdout",
          "text": [
            "4\n"
          ]
        }
      ]
    },
    {
      "cell_type": "markdown",
      "source": [
        "#### String Concatenation"
      ],
      "metadata": {
        "id": "mEpHKHAD6dsK"
      }
    },
    {
      "cell_type": "code",
      "source": [
        "a = 'Hello ' + 'World!'\n",
        "\n",
        "print (a)"
      ],
      "metadata": {
        "colab": {
          "base_uri": "https://localhost:8080/"
        },
        "id": "4tbOL59X6fq7",
        "outputId": "c4c8ae24-ba49-4d56-b7b4-08384e5b89a6"
      },
      "execution_count": 9,
      "outputs": [
        {
          "output_type": "stream",
          "name": "stdout",
          "text": [
            "Hello World!\n"
          ]
        }
      ]
    },
    {
      "cell_type": "markdown",
      "source": [
        "#### Complex Expressions"
      ],
      "metadata": {
        "id": "60bN-BDl6lNS"
      }
    },
    {
      "cell_type": "code",
      "source": [
        "a = 3 + 5 - 6 * 2 / 4\n",
        "\n",
        "print (a)"
      ],
      "metadata": {
        "colab": {
          "base_uri": "https://localhost:8080/"
        },
        "id": "eHqdum8z6nSK",
        "outputId": "108c0e31-bc6b-4cb6-df7e-316fc5900174"
      },
      "execution_count": 10,
      "outputs": [
        {
          "output_type": "stream",
          "name": "stdout",
          "text": [
            "5.0\n"
          ]
        }
      ]
    },
    {
      "cell_type": "markdown",
      "source": [
        "## 3. Conditional Statements and Data Structures\n"
      ],
      "metadata": {
        "id": "wAGkgk4j7Vij"
      }
    },
    {
      "cell_type": "markdown",
      "source": [
        "#### Boolean Condition"
      ],
      "metadata": {
        "id": "_6FgI6Pr7ia6"
      }
    },
    {
      "cell_type": "code",
      "source": [
        "x = True\n",
        "\n",
        "if x:\n",
        "  print (\"var x is True\")\n",
        "else:\n",
        "  print (\"var x is False\")"
      ],
      "metadata": {
        "colab": {
          "base_uri": "https://localhost:8080/"
        },
        "id": "ENc_vwFZ7lN9",
        "outputId": "36b6aa49-cfe1-4346-f291-42c5e3bedb31"
      },
      "execution_count": 13,
      "outputs": [
        {
          "output_type": "stream",
          "name": "stdout",
          "text": [
            "var x is True\n"
          ]
        }
      ]
    },
    {
      "cell_type": "markdown",
      "source": [
        "#### String Conditions"
      ],
      "metadata": {
        "id": "DHovm-FL7xkS"
      }
    },
    {
      "cell_type": "code",
      "source": [
        "x = \"Hello World!\"\n",
        "\n",
        "if x == 'Hello World!':\n",
        "  print (\"var x is Hello World!\")\n",
        "else:\n",
        "  print (\"var x is not Hello World! \")"
      ],
      "metadata": {
        "colab": {
          "base_uri": "https://localhost:8080/"
        },
        "id": "8bqg42E47zsK",
        "outputId": "321885e8-8317-46db-e11b-8c029db6258d"
      },
      "execution_count": 21,
      "outputs": [
        {
          "output_type": "stream",
          "name": "stdout",
          "text": [
            "var x is Hello World!\n"
          ]
        }
      ]
    },
    {
      "cell_type": "markdown",
      "source": [
        "#### Numerical Conditions"
      ],
      "metadata": {
        "id": "qP38h7w-8ELi"
      }
    },
    {
      "cell_type": "code",
      "source": [
        "x = 10\n",
        "\n",
        "if x == '10':\n",
        "  print (\"var x is a string\")\n",
        "elif x == 10:\n",
        "  print (\"var x is an integer\")\n",
        "else:\n",
        "  print (\"var x is non of the above\")"
      ],
      "metadata": {
        "colab": {
          "base_uri": "https://localhost:8080/"
        },
        "id": "HVcfUE438Gvi",
        "outputId": "b52ee685-6d22-4d1c-9919-59d3b7495eb6"
      },
      "execution_count": 20,
      "outputs": [
        {
          "output_type": "stream",
          "name": "stdout",
          "text": [
            "var x is an integer\n"
          ]
        }
      ]
    },
    {
      "cell_type": "markdown",
      "source": [
        "## 4. Loops"
      ],
      "metadata": {
        "id": "XVm22fZb9Uss"
      }
    },
    {
      "cell_type": "markdown",
      "source": [
        "#### For Loops"
      ],
      "metadata": {
        "id": "EvnGItP69g3p"
      }
    },
    {
      "cell_type": "code",
      "source": [
        "for var in range (0, 5, 2):\n",
        "  print (var)"
      ],
      "metadata": {
        "colab": {
          "base_uri": "https://localhost:8080/"
        },
        "id": "6y0zPWl39jjC",
        "outputId": "62072bca-f980-46f2-f6a1-b278da3ab0d3"
      },
      "execution_count": 22,
      "outputs": [
        {
          "output_type": "stream",
          "name": "stdout",
          "text": [
            "0\n",
            "2\n",
            "4\n"
          ]
        }
      ]
    },
    {
      "cell_type": "markdown",
      "source": [
        "#### While Loops"
      ],
      "metadata": {
        "id": "Q6g4C8U_9n3h"
      }
    },
    {
      "cell_type": "code",
      "source": [
        "var = 0\n",
        "\n",
        "while var < 5:\n",
        "  print (var)\n",
        "  var += 2"
      ],
      "metadata": {
        "colab": {
          "base_uri": "https://localhost:8080/"
        },
        "id": "EV4JFPeh9ptR",
        "outputId": "50845d9b-ba7f-4a96-ceb6-116730b8d2d2"
      },
      "execution_count": 23,
      "outputs": [
        {
          "output_type": "stream",
          "name": "stdout",
          "text": [
            "0\n",
            "2\n",
            "4\n"
          ]
        }
      ]
    },
    {
      "cell_type": "markdown",
      "source": [
        "#### Nested Loop"
      ],
      "metadata": {
        "id": "w6tmSTmS9wiS"
      }
    },
    {
      "cell_type": "code",
      "source": [
        "x = 0\n",
        "while x < 5:\n",
        "  for y in range (0, x):\n",
        "    print (y, end='')\n",
        "  x += 1\n",
        "  print ()"
      ],
      "metadata": {
        "colab": {
          "base_uri": "https://localhost:8080/"
        },
        "id": "nSET4QvW9yuy",
        "outputId": "6b7e86bc-8ab0-4a73-fb25-2bd83e30b01d"
      },
      "execution_count": 26,
      "outputs": [
        {
          "output_type": "stream",
          "name": "stdout",
          "text": [
            "\n",
            "0\n",
            "01\n",
            "012\n",
            "0123\n"
          ]
        }
      ]
    },
    {
      "cell_type": "markdown",
      "source": [
        "*Note: The loop declaration ends with a colon (:) while its contents inside are indented."
      ],
      "metadata": {
        "id": "ZSPHkEmXJJMO"
      }
    },
    {
      "cell_type": "markdown",
      "source": [
        "## 6. Lists\n",
        "\n",
        "  Can **contain** a number of values comprised of different datatypes."
      ],
      "metadata": {
        "id": "jXjGl0rv_ypN"
      }
    },
    {
      "cell_type": "code",
      "source": [
        "pi = 3.14159\n",
        "varList = [1, 2, 'A', 'B', 'Hello!', pi]\n",
        "print (varList[0])"
      ],
      "metadata": {
        "colab": {
          "base_uri": "https://localhost:8080/"
        },
        "id": "uxPHSkyw_-a4",
        "outputId": "29abd25a-5f6a-4cf2-e650-623c03aaeedf"
      },
      "execution_count": 46,
      "outputs": [
        {
          "output_type": "stream",
          "name": "stdout",
          "text": [
            "1\n"
          ]
        }
      ]
    },
    {
      "cell_type": "code",
      "source": [
        "print (varList[4])"
      ],
      "metadata": {
        "colab": {
          "base_uri": "https://localhost:8080/"
        },
        "id": "J4jWL8WzAL0R",
        "outputId": "58e5f8db-9ce2-4b6c-bae1-617c595d5220"
      },
      "execution_count": 47,
      "outputs": [
        {
          "output_type": "stream",
          "name": "stdout",
          "text": [
            "Hello!\n"
          ]
        }
      ]
    },
    {
      "cell_type": "code",
      "source": [
        "varList.append ('World!')\n",
        "print (varList[6])"
      ],
      "metadata": {
        "colab": {
          "base_uri": "https://localhost:8080/"
        },
        "id": "m2fIm9P-AO8w",
        "outputId": "d9206e2e-3d3f-4f49-e995-3456782ba677"
      },
      "execution_count": 48,
      "outputs": [
        {
          "output_type": "stream",
          "name": "stdout",
          "text": [
            "World!\n"
          ]
        }
      ]
    },
    {
      "cell_type": "code",
      "source": [
        "len (varList)"
      ],
      "metadata": {
        "colab": {
          "base_uri": "https://localhost:8080/"
        },
        "id": "Tqt7AhjoAX6Z",
        "outputId": "acb35ce9-2b88-4555-9650-ca22b21a13dc"
      },
      "execution_count": 49,
      "outputs": [
        {
          "output_type": "execute_result",
          "data": {
            "text/plain": [
              "7"
            ]
          },
          "metadata": {},
          "execution_count": 49
        }
      ]
    },
    {
      "cell_type": "code",
      "source": [
        "print (varList[5])"
      ],
      "metadata": {
        "colab": {
          "base_uri": "https://localhost:8080/"
        },
        "id": "SqNmIPX-Aa5p",
        "outputId": "94632265-5e05-4114-974b-6b3b7c78749d"
      },
      "execution_count": 50,
      "outputs": [
        {
          "output_type": "stream",
          "name": "stdout",
          "text": [
            "3.14159\n"
          ]
        }
      ]
    },
    {
      "cell_type": "code",
      "source": [
        "varList.remove(pi)\n",
        "print (varList[5])"
      ],
      "metadata": {
        "colab": {
          "base_uri": "https://localhost:8080/"
        },
        "id": "i0-pdg5iBEb5",
        "outputId": "6bd8bad9-0fa6-49c7-8cef-413512d09fbd"
      },
      "execution_count": 51,
      "outputs": [
        {
          "output_type": "stream",
          "name": "stdout",
          "text": [
            "World!\n"
          ]
        }
      ]
    },
    {
      "cell_type": "markdown",
      "source": [
        "*Note: Lists starts with an index of 0. The remove () method erases the first value that matches the parameter"
      ],
      "metadata": {
        "id": "4xkc6EjAJT72"
      }
    },
    {
      "cell_type": "markdown",
      "source": [
        "## 7. Dictionaries"
      ],
      "metadata": {
        "id": "gKbt8qcsBfJb"
      }
    },
    {
      "cell_type": "code",
      "source": [
        "var = \"Hello World!\"\n",
        "varDict = {'first' : 123, 2 : 'abc', '3' : var, 4 : ['list', 'listb']}\n",
        "print (varDict['first'])"
      ],
      "metadata": {
        "colab": {
          "base_uri": "https://localhost:8080/"
        },
        "id": "6QTx03nkBoXo",
        "outputId": "b6f751a1-0400-4b80-e9a5-029f5193440a"
      },
      "execution_count": 53,
      "outputs": [
        {
          "output_type": "stream",
          "name": "stdout",
          "text": [
            "123\n"
          ]
        }
      ]
    },
    {
      "cell_type": "code",
      "source": [
        "print (varDict[2])"
      ],
      "metadata": {
        "colab": {
          "base_uri": "https://localhost:8080/"
        },
        "id": "FFhW06_bB8mQ",
        "outputId": "d9587921-c863-427f-d12f-9b22087813ca"
      },
      "execution_count": 54,
      "outputs": [
        {
          "output_type": "stream",
          "name": "stdout",
          "text": [
            "abc\n"
          ]
        }
      ]
    },
    {
      "cell_type": "code",
      "source": [
        "print (varDict['3'])\n"
      ],
      "metadata": {
        "colab": {
          "base_uri": "https://localhost:8080/"
        },
        "id": "5Pzj8DuJB_cY",
        "outputId": "ea27eb66-1e7e-4ca9-da9e-0dcbd475ab46"
      },
      "execution_count": 55,
      "outputs": [
        {
          "output_type": "stream",
          "name": "stdout",
          "text": [
            "Hello World!\n"
          ]
        }
      ]
    },
    {
      "cell_type": "code",
      "source": [
        "print (varDict[4])"
      ],
      "metadata": {
        "colab": {
          "base_uri": "https://localhost:8080/"
        },
        "id": "SEaddIPYCC2Y",
        "outputId": "515d110b-6d0b-4d1b-913e-a75b18233d79"
      },
      "execution_count": 56,
      "outputs": [
        {
          "output_type": "stream",
          "name": "stdout",
          "text": [
            "['list', 'listb']\n"
          ]
        }
      ]
    },
    {
      "cell_type": "code",
      "source": [
        "print (varDict[4][1])"
      ],
      "metadata": {
        "colab": {
          "base_uri": "https://localhost:8080/"
        },
        "id": "va9Q1BmpCF-o",
        "outputId": "07859154-3739-43d0-bea0-0551da180c56"
      },
      "execution_count": 57,
      "outputs": [
        {
          "output_type": "stream",
          "name": "stdout",
          "text": [
            "listb\n"
          ]
        }
      ]
    },
    {
      "cell_type": "code",
      "source": [
        "len(varDict)"
      ],
      "metadata": {
        "colab": {
          "base_uri": "https://localhost:8080/"
        },
        "id": "KedQq-D-CLmX",
        "outputId": "1724c3bc-fb12-43e1-dd0c-f25c93720601"
      },
      "execution_count": 58,
      "outputs": [
        {
          "output_type": "execute_result",
          "data": {
            "text/plain": [
              "4"
            ]
          },
          "metadata": {},
          "execution_count": 58
        }
      ]
    },
    {
      "cell_type": "markdown",
      "source": [
        "## 8. Generators and Comprehension\n",
        "\n",
        "### Generators can be used to build list in the memory as objects"
      ],
      "metadata": {
        "id": "EygtrWbJEKaA"
      }
    },
    {
      "cell_type": "code",
      "source": [
        "def gen_num_up_to(n):\n",
        "  num = 0\n",
        "  while num < n:\n",
        "    yield num\n",
        "    num += 1"
      ],
      "metadata": {
        "id": "Hhf0mawaEasc"
      },
      "execution_count": 60,
      "outputs": []
    },
    {
      "cell_type": "code",
      "source": [
        "gen_num_up_to(5)"
      ],
      "metadata": {
        "colab": {
          "base_uri": "https://localhost:8080/"
        },
        "id": "n6CjWFZVEmD_",
        "outputId": "ecb3717f-fbcb-4940-dc43-3d6ac5dd548e"
      },
      "execution_count": 62,
      "outputs": [
        {
          "output_type": "execute_result",
          "data": {
            "text/plain": [
              "<generator object gen_num_up_to at 0x78a4a9e2a260>"
            ]
          },
          "metadata": {},
          "execution_count": 62
        }
      ]
    },
    {
      "cell_type": "markdown",
      "source": [
        "*Note: This creates an object"
      ],
      "metadata": {
        "id": "AWGlSAIeJqs2"
      }
    },
    {
      "cell_type": "code",
      "source": [
        "varList = gen_num_up_to(5)\n",
        "print ([var for var in varList])"
      ],
      "metadata": {
        "colab": {
          "base_uri": "https://localhost:8080/"
        },
        "id": "MAHigJPIEuTH",
        "outputId": "a8ca6ce1-9b29-4aea-efc1-aa044ce3945b"
      },
      "execution_count": 63,
      "outputs": [
        {
          "output_type": "stream",
          "name": "stdout",
          "text": [
            "[0, 1, 2, 3, 4]\n"
          ]
        }
      ]
    },
    {
      "cell_type": "code",
      "source": [
        "def gen_num_up_to(n):\n",
        "  num = 0\n",
        "  while num < n:\n",
        "    yield num\n",
        "    num += 2\n",
        "\n",
        "varList = gen_num_up_to(5)\n",
        "print ([var for var in varList])"
      ],
      "metadata": {
        "colab": {
          "base_uri": "https://localhost:8080/"
        },
        "id": "XDEbA1irE4Wk",
        "outputId": "c568fc88-fc25-4d5e-d53f-a6b49d4fe793"
      },
      "execution_count": 64,
      "outputs": [
        {
          "output_type": "stream",
          "name": "stdout",
          "text": [
            "[0, 2, 4]\n"
          ]
        }
      ]
    },
    {
      "cell_type": "code",
      "source": [
        "varList = range (0, 5, 2)\n",
        "print ([var for var in varList])"
      ],
      "metadata": {
        "colab": {
          "base_uri": "https://localhost:8080/"
        },
        "id": "D0cTiXzMFKmn",
        "outputId": "a7e99f5d-44de-4c67-c47a-56ab743b38d3"
      },
      "execution_count": 66,
      "outputs": [
        {
          "output_type": "stream",
          "name": "stdout",
          "text": [
            "[0, 2, 4]\n"
          ]
        }
      ]
    },
    {
      "cell_type": "markdown",
      "source": [
        "*Note: Python's built in range function"
      ],
      "metadata": {
        "id": "YM2c1HfZJyQt"
      }
    },
    {
      "cell_type": "code",
      "source": [
        "range([start, stop, [step]])"
      ],
      "metadata": {
        "id": "BCVeYfqOJ1sC"
      },
      "execution_count": null,
      "outputs": []
    },
    {
      "cell_type": "markdown",
      "source": [
        "#### Slicing"
      ],
      "metadata": {
        "id": "V_nR9JwAGqZT"
      }
    },
    {
      "cell_type": "code",
      "source": [
        "varList = [1, 2, 3, 4, 5, 6, 7, 8, 9, 10]\n",
        "print(varList[:5])"
      ],
      "metadata": {
        "colab": {
          "base_uri": "https://localhost:8080/"
        },
        "id": "QJEyM4thGwBX",
        "outputId": "fc326185-4c52-469c-b527-c43e5bd38f3b"
      },
      "execution_count": 71,
      "outputs": [
        {
          "output_type": "stream",
          "name": "stdout",
          "text": [
            "[1, 2, 3, 4, 5]\n"
          ]
        }
      ]
    },
    {
      "cell_type": "code",
      "source": [
        "print(varList[5:])"
      ],
      "metadata": {
        "colab": {
          "base_uri": "https://localhost:8080/"
        },
        "id": "OiRRKxsvHNru",
        "outputId": "f67f895e-a1e9-40c5-ee27-5eda1b985d6e"
      },
      "execution_count": 72,
      "outputs": [
        {
          "output_type": "stream",
          "name": "stdout",
          "text": [
            "[6, 7, 8, 9, 10]\n"
          ]
        }
      ]
    },
    {
      "cell_type": "code",
      "source": [
        "print(varList[:-2])"
      ],
      "metadata": {
        "colab": {
          "base_uri": "https://localhost:8080/"
        },
        "id": "p0rd5aGCHP2G",
        "outputId": "c910a1e9-00a9-456e-9d22-55873d88864f"
      },
      "execution_count": 73,
      "outputs": [
        {
          "output_type": "stream",
          "name": "stdout",
          "text": [
            "[1, 2, 3, 4, 5, 6, 7, 8]\n"
          ]
        }
      ]
    },
    {
      "cell_type": "code",
      "source": [
        "print(varList[-2:])"
      ],
      "metadata": {
        "colab": {
          "base_uri": "https://localhost:8080/"
        },
        "id": "GaWAK6wCHSQ-",
        "outputId": "7bd40dde-8801-4f21-f761-f342eb0f95cc"
      },
      "execution_count": 74,
      "outputs": [
        {
          "output_type": "stream",
          "name": "stdout",
          "text": [
            "[9, 10]\n"
          ]
        }
      ]
    },
    {
      "cell_type": "code",
      "source": [
        "print(varList[2:-2])"
      ],
      "metadata": {
        "colab": {
          "base_uri": "https://localhost:8080/"
        },
        "id": "65qB56wEHUqW",
        "outputId": "a8872fb5-2eeb-495f-f802-85011740903e"
      },
      "execution_count": 75,
      "outputs": [
        {
          "output_type": "stream",
          "name": "stdout",
          "text": [
            "[3, 4, 5, 6, 7, 8]\n"
          ]
        }
      ]
    },
    {
      "cell_type": "code",
      "source": [
        "print(varList[2:8:2])"
      ],
      "metadata": {
        "colab": {
          "base_uri": "https://localhost:8080/"
        },
        "id": "P0i78WfBHckW",
        "outputId": "8a0f2fb2-6b91-4d65-d979-8c71ebf285e4"
      },
      "execution_count": 76,
      "outputs": [
        {
          "output_type": "stream",
          "name": "stdout",
          "text": [
            "[3, 5, 7]\n"
          ]
        }
      ]
    },
    {
      "cell_type": "markdown",
      "source": [
        "*Note:"
      ],
      "metadata": {
        "id": "FVOZbgkuJ_ZI"
      }
    },
    {
      "cell_type": "code",
      "source": [
        "list (start:)\n",
        "lsit (:end)\n",
        "list (start:end)\n",
        "list (start:end:step)"
      ],
      "metadata": {
        "id": "L7TFZRqeKBXF"
      },
      "execution_count": null,
      "outputs": []
    },
    {
      "cell_type": "markdown",
      "source": [
        "## 9. Functions\n",
        "\n",
        "### Python functions use the following notation:\n"
      ],
      "metadata": {
        "id": "gU5xfv5JILH-"
      }
    },
    {
      "cell_type": "code",
      "source": [
        "  def function name:\n",
        "          commands"
      ],
      "metadata": {
        "id": "Eny5xZnUIhoW"
      },
      "execution_count": null,
      "outputs": []
    },
    {
      "cell_type": "code",
      "source": [
        "def remainder (n, m):\n",
        "  while True:\n",
        "    if n - m < 0:\n",
        "      return n\n",
        "    else:\n",
        "      n = n - m\n",
        "\n",
        "remainder (10, 4)"
      ],
      "metadata": {
        "colab": {
          "base_uri": "https://localhost:8080/"
        },
        "id": "SsBOIj5bIi3W",
        "outputId": "b0cd11a0-580f-445c-b9e4-65d741fb0a81"
      },
      "execution_count": 77,
      "outputs": [
        {
          "output_type": "execute_result",
          "data": {
            "text/plain": [
              "2"
            ]
          },
          "metadata": {},
          "execution_count": 77
        }
      ]
    },
    {
      "cell_type": "markdown",
      "source": [
        "*Note: Functions are defined with the keyword *def* before the **function name**. Similar to loops, the function definition ends with a colon (:) while its contents inside are indentted."
      ],
      "metadata": {
        "id": "URNrJFqlIrhy"
      }
    }
  ]
}